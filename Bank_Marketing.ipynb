{
 "cells": [
  {
   "cell_type": "code",
   "execution_count": 4,
   "metadata": {},
   "outputs": [],
   "source": [
    "import numpy as np\n",
    "import pandas as pd\n",
    "import seaborn as sns\n",
    "import matplotlib.pyplot as plt\n",
    "from sklearn.ensemble import AdaBoostClassifier\n",
    "from sklearn.naive_bayes import GaussianNB\n",
    "from sklearn.preprocessing import LabelEncoder\n",
    "from sklearn.cross_validation import train_test_split\n",
    "from sklearn.ensemble import RandomForestClassifier,VotingClassifier\n",
    "from sklearn.tree import DecisionTreeClassifier\n",
    "from sklearn.linear_model import LogisticRegression\n",
    "from sklearn.metrics import make_scorer, accuracy_score,f1_score,classification_report\n",
    "from sklearn.model_selection import GridSearchCV, RandomizedSearchCV\n",
    "from sklearn.learning_curve import learning_curve\n",
    "import matplotlib.pyplot as plt\n",
    "from sklearn import cross_validation\n",
    "from sklearn.cross_validation import KFold"
   ]
  },
  {
   "cell_type": "code",
   "execution_count": 2,
   "metadata": {},
   "outputs": [
    {
     "name": "stdout",
     "output_type": "stream",
     "text": [
      "   age           job  marital  education default  balance housing loan  \\\n",
      "0   58    management  married   tertiary      no     2143     yes   no   \n",
      "1   44    technician   single  secondary      no       29     yes   no   \n",
      "2   33  entrepreneur  married  secondary      no        2     yes  yes   \n",
      "3   47   blue-collar  married    unknown      no     1506     yes   no   \n",
      "4   33       unknown   single    unknown      no        1      no   no   \n",
      "\n",
      "   contact  day month  duration  campaign  pdays  previous poutcome is_success  \n",
      "0  unknown    5   may       261         1     -1         0  unknown         no  \n",
      "1  unknown    5   may       151         1     -1         0  unknown         no  \n",
      "2  unknown    5   may        76         1     -1         0  unknown         no  \n",
      "3  unknown    5   may        92         1     -1         0  unknown         no  \n",
      "4  unknown    5   may       198         1     -1         0  unknown         no  \n"
     ]
    },
    {
     "data": {
      "text/plain": [
       "(45211, 17)"
      ]
     },
     "execution_count": 2,
     "metadata": {},
     "output_type": "execute_result"
    }
   ],
   "source": [
    "# Loading the data\n",
    "data = pd.read_csv(\"marketing-data.csv\")\n",
    "print data.head()\n",
    "data.shape"
   ]
  },
  {
   "cell_type": "code",
   "execution_count": 17,
   "metadata": {
    "scrolled": true
   },
   "outputs": [
    {
     "name": "stdout",
     "output_type": "stream",
     "text": [
      "age           0\n",
      "job           0\n",
      "marital       0\n",
      "education     0\n",
      "default       0\n",
      "balance       0\n",
      "housing       0\n",
      "loan          0\n",
      "contact       0\n",
      "day           0\n",
      "month         0\n",
      "duration      0\n",
      "campaign      0\n",
      "pdays         0\n",
      "previous      0\n",
      "poutcome      0\n",
      "is_success    0\n",
      "dtype: int64\n",
      "job\n",
      "blue-collar      9732\n",
      "management       9458\n",
      "technician       7597\n",
      "admin.           5171\n",
      "services         4154\n",
      "retired          2264\n",
      "self-employed    1579\n",
      "entrepreneur     1487\n",
      "unemployed       1303\n",
      "housemaid        1240\n",
      "student           938\n",
      "unknown           288\n",
      "Name: job, dtype: int64\n",
      "marital\n",
      "married     27214\n",
      "single      12790\n",
      "divorced     5207\n",
      "Name: marital, dtype: int64\n",
      "education\n",
      "secondary    23202\n",
      "tertiary     13301\n",
      "primary       6851\n",
      "unknown       1857\n",
      "Name: education, dtype: int64\n",
      "default\n",
      "no     44396\n",
      "yes      815\n",
      "Name: default, dtype: int64\n",
      "housing\n",
      "yes    25130\n",
      "no     20081\n",
      "Name: housing, dtype: int64\n",
      "loan\n",
      "no     37967\n",
      "yes     7244\n",
      "Name: loan, dtype: int64\n",
      "contact\n",
      "cellular     29285\n",
      "unknown      13020\n",
      "telephone     2906\n",
      "Name: contact, dtype: int64\n",
      "pdays\n",
      "-1      36954\n",
      " 182      167\n",
      " 92       147\n",
      " 183      126\n",
      " 91       126\n",
      " 181      117\n",
      " 370       99\n",
      " 184       85\n",
      " 364       77\n",
      " 95        74\n",
      " 350       73\n",
      " 94        72\n",
      " 175       71\n",
      " 185       68\n",
      " 93        65\n",
      " 343       65\n",
      " 188       64\n",
      " 189       60\n",
      " 186       60\n",
      " 174       57\n",
      " 96        57\n",
      " 349       57\n",
      " 363       55\n",
      " 97        54\n",
      " 90        54\n",
      " 196       51\n",
      " 365       51\n",
      " 368       49\n",
      " 342       49\n",
      " 98        49\n",
      "        ...  \n",
      " 774        1\n",
      " 550        1\n",
      " 396        1\n",
      " 492        1\n",
      " 466        1\n",
      " 45         1\n",
      " 434        1\n",
      " 18         1\n",
      " 529        1\n",
      " 465        1\n",
      " 401        1\n",
      " 784        1\n",
      " 656        1\n",
      " 592        1\n",
      " 528        1\n",
      " 464        1\n",
      " 432        1\n",
      " 655        1\n",
      " 495        1\n",
      " 543        1\n",
      " 47         1\n",
      " 782        1\n",
      " 686        1\n",
      " 558        1\n",
      " 526        1\n",
      " 749        1\n",
      " 717        1\n",
      " 589        1\n",
      " 493        1\n",
      " 32         1\n",
      "Name: pdays, Length: 559, dtype: int64\n",
      "previous\n",
      "0      36954\n",
      "1       2772\n",
      "2       2106\n",
      "3       1142\n",
      "4        714\n",
      "5        459\n",
      "6        277\n",
      "7        205\n",
      "8        129\n",
      "9         92\n",
      "10        67\n",
      "11        65\n",
      "12        44\n",
      "13        38\n",
      "15        20\n",
      "14        19\n",
      "17        15\n",
      "16        13\n",
      "19        11\n",
      "23         8\n",
      "20         8\n",
      "22         6\n",
      "18         6\n",
      "24         5\n",
      "27         5\n",
      "29         4\n",
      "25         4\n",
      "21         4\n",
      "30         3\n",
      "28         2\n",
      "26         2\n",
      "37         2\n",
      "38         2\n",
      "55         1\n",
      "40         1\n",
      "35         1\n",
      "58         1\n",
      "51         1\n",
      "41         1\n",
      "32         1\n",
      "275        1\n",
      "Name: previous, dtype: int64\n",
      "poutcome\n",
      "unknown    36959\n",
      "failure     4901\n",
      "other       1840\n",
      "success     1511\n",
      "Name: poutcome, dtype: int64\n",
      "is_success\n",
      "no     39922\n",
      "yes     5289\n",
      "Name: is_success, dtype: int64\n"
     ]
    }
   ],
   "source": [
    "print data.isnull().sum()\n",
    "#Checking classses in each feature\n",
    "dd = ['job','marital','education','default','housing','loan','contact','pdays','previous','poutcome','is_success']\n",
    "for i in dd:\n",
    "    print i\n",
    "    print data[i].value_counts()"
   ]
  },
  {
   "cell_type": "markdown",
   "metadata": {},
   "source": [
    "The datasets has no null values."
   ]
  },
  {
   "cell_type": "markdown",
   "metadata": {
    "collapsed": true
   },
   "source": [
    "## Exploratory Data Analysis"
   ]
  },
  {
   "cell_type": "code",
   "execution_count": 12,
   "metadata": {
    "scrolled": true
   },
   "outputs": [
    {
     "data": {
      "text/html": [
       "<div>\n",
       "<style>\n",
       "    .dataframe thead tr:only-child th {\n",
       "        text-align: right;\n",
       "    }\n",
       "\n",
       "    .dataframe thead th {\n",
       "        text-align: left;\n",
       "    }\n",
       "\n",
       "    .dataframe tbody tr th {\n",
       "        vertical-align: top;\n",
       "    }\n",
       "</style>\n",
       "<table border=\"1\" class=\"dataframe\">\n",
       "  <thead>\n",
       "    <tr style=\"text-align: right;\">\n",
       "      <th></th>\n",
       "      <th>age</th>\n",
       "      <th>job</th>\n",
       "      <th>marital</th>\n",
       "      <th>education</th>\n",
       "      <th>default</th>\n",
       "      <th>balance</th>\n",
       "      <th>housing</th>\n",
       "      <th>loan</th>\n",
       "      <th>contact</th>\n",
       "      <th>day</th>\n",
       "      <th>month</th>\n",
       "      <th>duration</th>\n",
       "      <th>campaign</th>\n",
       "      <th>pdays</th>\n",
       "      <th>previous</th>\n",
       "      <th>poutcome</th>\n",
       "      <th>is_success</th>\n",
       "    </tr>\n",
       "  </thead>\n",
       "  <tbody>\n",
       "    <tr>\n",
       "      <th>0</th>\n",
       "      <td>58</td>\n",
       "      <td>management</td>\n",
       "      <td>married</td>\n",
       "      <td>tertiary</td>\n",
       "      <td>no</td>\n",
       "      <td>2143</td>\n",
       "      <td>yes</td>\n",
       "      <td>no</td>\n",
       "      <td>unknown</td>\n",
       "      <td>5</td>\n",
       "      <td>may</td>\n",
       "      <td>261</td>\n",
       "      <td>1</td>\n",
       "      <td>-1</td>\n",
       "      <td>0</td>\n",
       "      <td>unknown</td>\n",
       "      <td>0</td>\n",
       "    </tr>\n",
       "    <tr>\n",
       "      <th>1</th>\n",
       "      <td>44</td>\n",
       "      <td>technician</td>\n",
       "      <td>single</td>\n",
       "      <td>secondary</td>\n",
       "      <td>no</td>\n",
       "      <td>29</td>\n",
       "      <td>yes</td>\n",
       "      <td>no</td>\n",
       "      <td>unknown</td>\n",
       "      <td>5</td>\n",
       "      <td>may</td>\n",
       "      <td>151</td>\n",
       "      <td>1</td>\n",
       "      <td>-1</td>\n",
       "      <td>0</td>\n",
       "      <td>unknown</td>\n",
       "      <td>0</td>\n",
       "    </tr>\n",
       "    <tr>\n",
       "      <th>2</th>\n",
       "      <td>33</td>\n",
       "      <td>entrepreneur</td>\n",
       "      <td>married</td>\n",
       "      <td>secondary</td>\n",
       "      <td>no</td>\n",
       "      <td>2</td>\n",
       "      <td>yes</td>\n",
       "      <td>yes</td>\n",
       "      <td>unknown</td>\n",
       "      <td>5</td>\n",
       "      <td>may</td>\n",
       "      <td>76</td>\n",
       "      <td>1</td>\n",
       "      <td>-1</td>\n",
       "      <td>0</td>\n",
       "      <td>unknown</td>\n",
       "      <td>0</td>\n",
       "    </tr>\n",
       "    <tr>\n",
       "      <th>3</th>\n",
       "      <td>47</td>\n",
       "      <td>blue-collar</td>\n",
       "      <td>married</td>\n",
       "      <td>unknown</td>\n",
       "      <td>no</td>\n",
       "      <td>1506</td>\n",
       "      <td>yes</td>\n",
       "      <td>no</td>\n",
       "      <td>unknown</td>\n",
       "      <td>5</td>\n",
       "      <td>may</td>\n",
       "      <td>92</td>\n",
       "      <td>1</td>\n",
       "      <td>-1</td>\n",
       "      <td>0</td>\n",
       "      <td>unknown</td>\n",
       "      <td>0</td>\n",
       "    </tr>\n",
       "    <tr>\n",
       "      <th>4</th>\n",
       "      <td>33</td>\n",
       "      <td>unknown</td>\n",
       "      <td>single</td>\n",
       "      <td>unknown</td>\n",
       "      <td>no</td>\n",
       "      <td>1</td>\n",
       "      <td>no</td>\n",
       "      <td>no</td>\n",
       "      <td>unknown</td>\n",
       "      <td>5</td>\n",
       "      <td>may</td>\n",
       "      <td>198</td>\n",
       "      <td>1</td>\n",
       "      <td>-1</td>\n",
       "      <td>0</td>\n",
       "      <td>unknown</td>\n",
       "      <td>0</td>\n",
       "    </tr>\n",
       "  </tbody>\n",
       "</table>\n",
       "</div>"
      ],
      "text/plain": [
       "   age           job  marital  education default  balance housing loan  \\\n",
       "0   58    management  married   tertiary      no     2143     yes   no   \n",
       "1   44    technician   single  secondary      no       29     yes   no   \n",
       "2   33  entrepreneur  married  secondary      no        2     yes  yes   \n",
       "3   47   blue-collar  married    unknown      no     1506     yes   no   \n",
       "4   33       unknown   single    unknown      no        1      no   no   \n",
       "\n",
       "   contact  day month  duration  campaign  pdays  previous poutcome  \\\n",
       "0  unknown    5   may       261         1     -1         0  unknown   \n",
       "1  unknown    5   may       151         1     -1         0  unknown   \n",
       "2  unknown    5   may        76         1     -1         0  unknown   \n",
       "3  unknown    5   may        92         1     -1         0  unknown   \n",
       "4  unknown    5   may       198         1     -1         0  unknown   \n",
       "\n",
       "   is_success  \n",
       "0           0  \n",
       "1           0  \n",
       "2           0  \n",
       "3           0  \n",
       "4           0  "
      ]
     },
     "execution_count": 12,
     "metadata": {},
     "output_type": "execute_result"
    }
   ],
   "source": [
    "#To convert yes-no into 0/1 feature set.\n",
    "le = LabelEncoder()\n",
    "le = le.fit(data['is_success'])\n",
    "data['is_success'] = le.transform(data['is_success'])\n",
    "data.head()"
   ]
  },
  {
   "cell_type": "code",
   "execution_count": 13,
   "metadata": {
    "collapsed": true
   },
   "outputs": [
    {
     "data": {
      "image/png": "[encoded data removed]",
      "text/plain": [
       "<matplotlib.figure.Figure at 0x7fc03b641e10>"
      ]
     },
     "metadata": {},
     "output_type": "display_data"
    }
   ],
   "source": [
    "sns.barplot(x = 'job',y='is_success',data=data)\n",
    "plt.show()"
   ]
  },
  {
   "cell_type": "markdown",
   "metadata": {},
   "source": [
    "Above Graph shows that the students and retired people are the major subscriptions and blue-collar professionals are least subscribed.  \n",
    "Getting the same data in a table"
   ]
  },
  {
   "cell_type": "code",
   "execution_count": 14,
   "metadata": {},
   "outputs": [
    {
     "name": "stdout",
     "output_type": "stream",
     "text": [
      "              job  is_success\n",
      "8         student    0.286780\n",
      "5         retired    0.227915\n",
      "10     unemployed    0.155027\n",
      "4      management    0.137556\n",
      "0          admin.    0.122027\n",
      "6   self-employed    0.118429\n",
      "11        unknown    0.118056\n",
      "9      technician    0.110570\n",
      "7        services    0.088830\n",
      "3       housemaid    0.087903\n",
      "2    entrepreneur    0.082717\n",
      "1     blue-collar    0.072750\n"
     ]
    }
   ],
   "source": [
    "accurate= data[[\"job\", \"is_success\"]].groupby(['job'], as_index=False).mean().sort_values(by='is_success', ascending=False)\n",
    "print accurate"
   ]
  },
  {
   "cell_type": "code",
   "execution_count": 15,
   "metadata": {
    "scrolled": false
   },
   "outputs": [
    {
     "data": {
      "image/png": "[encoded data removed]",
      "text/plain": [
       "<matplotlib.figure.Figure at 0x7fc06c66fd50>"
      ]
     },
     "metadata": {},
     "output_type": "display_data"
    }
   ],
   "source": [
    "sns.barplot(x=\"is_success\",y=\"duration\",hue='job',data=data)\n",
    "plt.show()"
   ]
  },
  {
   "cell_type": "markdown",
   "metadata": {},
   "source": [
    "This graph shows that the people interested in taking loan have higher duration time."
   ]
  },
  {
   "cell_type": "code",
   "execution_count": 16,
   "metadata": {
    "scrolled": false
   },
   "outputs": [
    {
     "data": {
      "image/png": "[encoded data removed]",
      "text/plain": [
       "<matplotlib.figure.Figure at 0x7fc03b4fb550>"
      ]
     },
     "metadata": {},
     "output_type": "display_data"
    }
   ],
   "source": [
    "sns.barplot(x='marital',y = 'age',data =data)\n",
    "plt.show()"
   ]
  },
  {
   "cell_type": "markdown",
   "metadata": {},
   "source": [
    "This is a general graph showing the age of married, single and divorced people"
   ]
  },
  {
   "cell_type": "code",
   "execution_count": 17,
   "metadata": {
    "scrolled": true
   },
   "outputs": [
    {
     "data": {
      "image/png": "[encoded data removed]",
      "text/plain": [
       "<matplotlib.figure.Figure at 0x7fc038e5e8d0>"
      ]
     },
     "metadata": {},
     "output_type": "display_data"
    }
   ],
   "source": [
    "## Looking for highly correlated features\n",
    "corr = data.corr()\n",
    "sns.heatmap(corr)\n",
    "plt.show()"
   ]
  },
  {
   "cell_type": "markdown",
   "metadata": {},
   "source": [
    "The above graph is missing some variables, after passing the variables from label encoder, it will graph all the features, as mentioned below."
   ]
  },
  {
   "cell_type": "markdown",
   "metadata": {},
   "source": [
    "From the graph it is clearly visible that duration have a strong correlation with the output, hence it is an important feature\n"
   ]
  },
  {
   "cell_type": "code",
   "execution_count": 18,
   "metadata": {
    "scrolled": true
   },
   "outputs": [
    {
     "data": {
      "image/png": "[encoded data removed]",
      "text/plain": [
       "<matplotlib.figure.Figure at 0x7fc038e88790>"
      ]
     },
     "metadata": {},
     "output_type": "display_data"
    }
   ],
   "source": [
    "sns.barplot(x='poutcome',y='pdays',data=data)\n",
    "plt.show()\n"
   ]
  },
  {
   "cell_type": "markdown",
   "metadata": {},
   "source": [
    "This graph shows that the people who did not subscribe on previous outcome, had maximum time from last contacted\n",
    "This conclusion can also be seen from correlation graph plotted below."
   ]
  },
  {
   "cell_type": "code",
   "execution_count": 19,
   "metadata": {
    "scrolled": true
   },
   "outputs": [
    {
     "data": {
      "text/html": [
       "<div>\n",
       "<style>\n",
       "    .dataframe thead tr:only-child th {\n",
       "        text-align: right;\n",
       "    }\n",
       "\n",
       "    .dataframe thead th {\n",
       "        text-align: left;\n",
       "    }\n",
       "\n",
       "    .dataframe tbody tr th {\n",
       "        vertical-align: top;\n",
       "    }\n",
       "</style>\n",
       "<table border=\"1\" class=\"dataframe\">\n",
       "  <thead>\n",
       "    <tr style=\"text-align: right;\">\n",
       "      <th></th>\n",
       "      <th>age</th>\n",
       "      <th>job</th>\n",
       "      <th>marital</th>\n",
       "      <th>education</th>\n",
       "      <th>default</th>\n",
       "      <th>balance</th>\n",
       "      <th>housing</th>\n",
       "      <th>loan</th>\n",
       "      <th>contact</th>\n",
       "      <th>day</th>\n",
       "      <th>month</th>\n",
       "      <th>duration</th>\n",
       "      <th>campaign</th>\n",
       "      <th>pdays</th>\n",
       "      <th>previous</th>\n",
       "      <th>poutcome</th>\n",
       "      <th>is_success</th>\n",
       "    </tr>\n",
       "  </thead>\n",
       "  <tbody>\n",
       "    <tr>\n",
       "      <th>0</th>\n",
       "      <td>40</td>\n",
       "      <td>4</td>\n",
       "      <td>1</td>\n",
       "      <td>2</td>\n",
       "      <td>0</td>\n",
       "      <td>3036</td>\n",
       "      <td>1</td>\n",
       "      <td>0</td>\n",
       "      <td>2</td>\n",
       "      <td>4</td>\n",
       "      <td>8</td>\n",
       "      <td>261</td>\n",
       "      <td>0</td>\n",
       "      <td>0</td>\n",
       "      <td>0</td>\n",
       "      <td>3</td>\n",
       "      <td>0</td>\n",
       "    </tr>\n",
       "    <tr>\n",
       "      <th>1</th>\n",
       "      <td>26</td>\n",
       "      <td>9</td>\n",
       "      <td>2</td>\n",
       "      <td>1</td>\n",
       "      <td>0</td>\n",
       "      <td>945</td>\n",
       "      <td>1</td>\n",
       "      <td>0</td>\n",
       "      <td>2</td>\n",
       "      <td>4</td>\n",
       "      <td>8</td>\n",
       "      <td>151</td>\n",
       "      <td>0</td>\n",
       "      <td>0</td>\n",
       "      <td>0</td>\n",
       "      <td>3</td>\n",
       "      <td>0</td>\n",
       "    </tr>\n",
       "    <tr>\n",
       "      <th>2</th>\n",
       "      <td>15</td>\n",
       "      <td>2</td>\n",
       "      <td>1</td>\n",
       "      <td>1</td>\n",
       "      <td>0</td>\n",
       "      <td>918</td>\n",
       "      <td>1</td>\n",
       "      <td>1</td>\n",
       "      <td>2</td>\n",
       "      <td>4</td>\n",
       "      <td>8</td>\n",
       "      <td>76</td>\n",
       "      <td>0</td>\n",
       "      <td>0</td>\n",
       "      <td>0</td>\n",
       "      <td>3</td>\n",
       "      <td>0</td>\n",
       "    </tr>\n",
       "    <tr>\n",
       "      <th>3</th>\n",
       "      <td>29</td>\n",
       "      <td>1</td>\n",
       "      <td>1</td>\n",
       "      <td>3</td>\n",
       "      <td>0</td>\n",
       "      <td>2420</td>\n",
       "      <td>1</td>\n",
       "      <td>0</td>\n",
       "      <td>2</td>\n",
       "      <td>4</td>\n",
       "      <td>8</td>\n",
       "      <td>92</td>\n",
       "      <td>0</td>\n",
       "      <td>0</td>\n",
       "      <td>0</td>\n",
       "      <td>3</td>\n",
       "      <td>0</td>\n",
       "    </tr>\n",
       "    <tr>\n",
       "      <th>4</th>\n",
       "      <td>15</td>\n",
       "      <td>11</td>\n",
       "      <td>2</td>\n",
       "      <td>3</td>\n",
       "      <td>0</td>\n",
       "      <td>917</td>\n",
       "      <td>0</td>\n",
       "      <td>0</td>\n",
       "      <td>2</td>\n",
       "      <td>4</td>\n",
       "      <td>8</td>\n",
       "      <td>198</td>\n",
       "      <td>0</td>\n",
       "      <td>0</td>\n",
       "      <td>0</td>\n",
       "      <td>3</td>\n",
       "      <td>0</td>\n",
       "    </tr>\n",
       "  </tbody>\n",
       "</table>\n",
       "</div>"
      ],
      "text/plain": [
       "   age  job  marital  education  default  balance  housing  loan  contact  \\\n",
       "0   40    4        1          2        0     3036        1     0        2   \n",
       "1   26    9        2          1        0      945        1     0        2   \n",
       "2   15    2        1          1        0      918        1     1        2   \n",
       "3   29    1        1          3        0     2420        1     0        2   \n",
       "4   15   11        2          3        0      917        0     0        2   \n",
       "\n",
       "   day  month  duration  campaign  pdays  previous  poutcome  is_success  \n",
       "0    4      8       261         0      0         0         3           0  \n",
       "1    4      8       151         0      0         0         3           0  \n",
       "2    4      8        76         0      0         0         3           0  \n",
       "3    4      8        92         0      0         0         3           0  \n",
       "4    4      8       198         0      0         0         3           0  "
      ]
     },
     "execution_count": 19,
     "metadata": {},
     "output_type": "execute_result"
    }
   ],
   "source": [
    "#used Label encoder for converting features into numerical values\n",
    "features = (\"age\",\"job\",\"marital\",\"is_success\",\"education\",\"default\",\"balance\",\"housing\",\"loan\",\"contact\",\"day\",\"month\",\"duration\",\"campaign\",\"pdays\",\"previous\",\"poutcome\")\n",
    "for feature in features:\n",
    "    le = LabelEncoder()\n",
    "    le = le.fit(data[feature])\n",
    "    data[feature] = le.transform(data[feature])\n",
    "data.head()"
   ]
  },
  {
   "cell_type": "code",
   "execution_count": 20,
   "metadata": {},
   "outputs": [
    {
     "data": {
      "image/png": "[encoded data removed]",
      "text/plain": [
       "<matplotlib.figure.Figure at 0x7fc038f14950>"
      ]
     },
     "metadata": {},
     "output_type": "display_data"
    }
   ],
   "source": [
    "corr = data.corr()\n",
    "sns.heatmap(corr)\n",
    "plt.show()"
   ]
  },
  {
   "cell_type": "markdown",
   "metadata": {},
   "source": [
    "This analysis can help us decide if we can drop some\n",
    "columns depending upon its correlation with the outcome variable. "
   ]
  },
  {
   "cell_type": "code",
   "execution_count": 21,
   "metadata": {
    "scrolled": false
   },
   "outputs": [
    {
     "data": {
      "image/png": "[encoded data removed]",
      "text/plain": [
       "<matplotlib.figure.Figure at 0x7fc038f2df90>"
      ]
     },
     "metadata": {},
     "output_type": "display_data"
    }
   ],
   "source": [
    "sns.barplot(x='previous',y='pdays',data=data)\n",
    "plt.show()"
   ]
  },
  {
   "cell_type": "markdown",
   "metadata": {},
   "source": [
    "## Feature engineering\n",
    "1. We can change 'balance' and 'age' features into categorical values, by making bins and using cut function in pandas as shown.\n",
    "2. Changing into categorical values might help the classifier to predict in less time but may reduce the accuracy"
   ]
  },
  {
   "cell_type": "code",
   "execution_count": 22,
   "metadata": {
    "scrolled": true
   },
   "outputs": [],
   "source": [
    "#changed 'age' feature into categorical value\n",
    "#but changing this feature may reduce the accuracy\n",
    "data['age'] = data.age.fillna(-0.5)\n",
    "bins = (-1, 0, 5, 12, 18, 25, 35, 60, 120)\n",
    "group_names = ['Unknown', 'Baby', 'Child', 'Teenager', 'Student', 'Young Adult', 'Adult', 'Senior']\n",
    "categories = pd.cut(data.age, bins, labels=group_names)\n",
    "data['age'] = categories"
   ]
  },
  {
   "cell_type": "code",
   "execution_count": 23,
   "metadata": {
    "scrolled": true
   },
   "outputs": [
    {
     "data": {
      "text/html": [
       "<div>\n",
       "<style>\n",
       "    .dataframe thead tr:only-child th {\n",
       "        text-align: right;\n",
       "    }\n",
       "\n",
       "    .dataframe thead th {\n",
       "        text-align: left;\n",
       "    }\n",
       "\n",
       "    .dataframe tbody tr th {\n",
       "        vertical-align: top;\n",
       "    }\n",
       "</style>\n",
       "<table border=\"1\" class=\"dataframe\">\n",
       "  <thead>\n",
       "    <tr style=\"text-align: right;\">\n",
       "      <th></th>\n",
       "      <th>age</th>\n",
       "      <th>job</th>\n",
       "      <th>marital</th>\n",
       "      <th>education</th>\n",
       "      <th>default</th>\n",
       "      <th>balance</th>\n",
       "      <th>housing</th>\n",
       "      <th>loan</th>\n",
       "      <th>contact</th>\n",
       "      <th>day</th>\n",
       "      <th>month</th>\n",
       "      <th>duration</th>\n",
       "      <th>campaign</th>\n",
       "      <th>pdays</th>\n",
       "      <th>previous</th>\n",
       "      <th>poutcome</th>\n",
       "      <th>is_success</th>\n",
       "    </tr>\n",
       "  </thead>\n",
       "  <tbody>\n",
       "    <tr>\n",
       "      <th>0</th>\n",
       "      <td>0</td>\n",
       "      <td>4</td>\n",
       "      <td>1</td>\n",
       "      <td>2</td>\n",
       "      <td>0</td>\n",
       "      <td>3036</td>\n",
       "      <td>1</td>\n",
       "      <td>0</td>\n",
       "      <td>2</td>\n",
       "      <td>4</td>\n",
       "      <td>8</td>\n",
       "      <td>261</td>\n",
       "      <td>0</td>\n",
       "      <td>0</td>\n",
       "      <td>0</td>\n",
       "      <td>3</td>\n",
       "      <td>0</td>\n",
       "    </tr>\n",
       "    <tr>\n",
       "      <th>1</th>\n",
       "      <td>7</td>\n",
       "      <td>9</td>\n",
       "      <td>2</td>\n",
       "      <td>1</td>\n",
       "      <td>0</td>\n",
       "      <td>945</td>\n",
       "      <td>1</td>\n",
       "      <td>0</td>\n",
       "      <td>2</td>\n",
       "      <td>4</td>\n",
       "      <td>8</td>\n",
       "      <td>151</td>\n",
       "      <td>0</td>\n",
       "      <td>0</td>\n",
       "      <td>0</td>\n",
       "      <td>3</td>\n",
       "      <td>0</td>\n",
       "    </tr>\n",
       "    <tr>\n",
       "      <th>2</th>\n",
       "      <td>5</td>\n",
       "      <td>2</td>\n",
       "      <td>1</td>\n",
       "      <td>1</td>\n",
       "      <td>0</td>\n",
       "      <td>918</td>\n",
       "      <td>1</td>\n",
       "      <td>1</td>\n",
       "      <td>2</td>\n",
       "      <td>4</td>\n",
       "      <td>8</td>\n",
       "      <td>76</td>\n",
       "      <td>0</td>\n",
       "      <td>0</td>\n",
       "      <td>0</td>\n",
       "      <td>3</td>\n",
       "      <td>0</td>\n",
       "    </tr>\n",
       "    <tr>\n",
       "      <th>3</th>\n",
       "      <td>7</td>\n",
       "      <td>1</td>\n",
       "      <td>1</td>\n",
       "      <td>3</td>\n",
       "      <td>0</td>\n",
       "      <td>2420</td>\n",
       "      <td>1</td>\n",
       "      <td>0</td>\n",
       "      <td>2</td>\n",
       "      <td>4</td>\n",
       "      <td>8</td>\n",
       "      <td>92</td>\n",
       "      <td>0</td>\n",
       "      <td>0</td>\n",
       "      <td>0</td>\n",
       "      <td>3</td>\n",
       "      <td>0</td>\n",
       "    </tr>\n",
       "    <tr>\n",
       "      <th>4</th>\n",
       "      <td>5</td>\n",
       "      <td>11</td>\n",
       "      <td>2</td>\n",
       "      <td>3</td>\n",
       "      <td>0</td>\n",
       "      <td>917</td>\n",
       "      <td>0</td>\n",
       "      <td>0</td>\n",
       "      <td>2</td>\n",
       "      <td>4</td>\n",
       "      <td>8</td>\n",
       "      <td>198</td>\n",
       "      <td>0</td>\n",
       "      <td>0</td>\n",
       "      <td>0</td>\n",
       "      <td>3</td>\n",
       "      <td>0</td>\n",
       "    </tr>\n",
       "  </tbody>\n",
       "</table>\n",
       "</div>"
      ],
      "text/plain": [
       "   age  job  marital  education  default  balance  housing  loan  contact  \\\n",
       "0    0    4        1          2        0     3036        1     0        2   \n",
       "1    7    9        2          1        0      945        1     0        2   \n",
       "2    5    2        1          1        0      918        1     1        2   \n",
       "3    7    1        1          3        0     2420        1     0        2   \n",
       "4    5   11        2          3        0      917        0     0        2   \n",
       "\n",
       "   day  month  duration  campaign  pdays  previous  poutcome  is_success  \n",
       "0    4      8       261         0      0         0         3           0  \n",
       "1    4      8       151         0      0         0         3           0  \n",
       "2    4      8        76         0      0         0         3           0  \n",
       "3    4      8        92         0      0         0         3           0  \n",
       "4    4      8       198         0      0         0         3           0  "
      ]
     },
     "execution_count": 23,
     "metadata": {},
     "output_type": "execute_result"
    }
   ],
   "source": [
    "#passing age to label encoder\n",
    "le = LabelEncoder()\n",
    "le = le.fit(data['age'])\n",
    "data['age'] = le.transform(data['age'])\n",
    "data.head() "
   ]
  },
  {
   "cell_type": "markdown",
   "metadata": {},
   "source": [
    "## Feature importance\n",
    "Using xgboost to get a preliminary list of features sorted by their importance."
   ]
  },
  {
   "cell_type": "code",
   "execution_count": 24,
   "metadata": {
    "scrolled": false
   },
   "outputs": [
    {
     "data": {
      "image/png": "[encoded data removed]",
      "text/plain": [
       "<matplotlib.figure.Figure at 0x7fc03b5d0050>"
      ]
     },
     "metadata": {},
     "output_type": "display_data"
    }
   ],
   "source": [
    "#plotting feature importance! by using Xgboost\n",
    "from numpy import loadtxt\n",
    "from xgboost import XGBClassifier\n",
    "from xgboost import plot_importance\n",
    "from matplotlib import pyplot\n",
    "# load data\n",
    "# split data into X and y\n",
    "X = data.drop('is_success',axis=1)\n",
    "y = data[\"is_success\"]\n",
    "# fit model no training data\n",
    "model = XGBClassifier()\n",
    "model.fit(X, y)\n",
    "# plot feature importance\n",
    "plot_importance(model)\n",
    "pyplot.show()"
   ]
  },
  {
   "cell_type": "markdown",
   "metadata": {},
   "source": [
    "Plotting feature importance graph using boosting, tree based classifier can easily detect the feature importance as it splits the node which have maximum information gain or minimum entropy. "
   ]
  },
  {
   "cell_type": "markdown",
   "metadata": {},
   "source": [
    "## Approach used in this data set\n",
    "Due to high class imbalance, we cannot directly use algorithm. The classifier will learn the majority class, and will show high accuracy on training but will not generalise well to test set. We have the option of using SVM and Neural networks but since most of the features are categorical, decision tree based models are a better choice.\n",
    "1. To handle highly skewed data set, I have used Stacking with Random forest classifier and to increase generalizibility, I have used cross validation to tweak hyperparameter and to make the model better.\n",
    "2. We cannot directly apply random forest to the data set as it is the drawback of this algorithm that it cannot make good predictions in highly skewed data set. Under-sampling is used to counter this.\n",
    "3. For stacking, we need a stack data and a test data from the data.\n",
    "4. After drawing stack, count of 'yes or 1' in test data is around 3289 and the count of 'no or 0' is 39922.\n",
    "5. I have made 7 models in which 'yes' class is set to 3200 samples, and 'no' class is set to 3000 samples which are sampled from every next consecutive 5000 thousand samples and concatenated in the  dataset. So, we have 7 datasets each having 6200 samples with 'yes' class 3200 and 3000 samples with 'no' class.\n",
    "6. Used random forest and set the hyper parameter, searched for best estimator by using randomized search cross validation and fit the 'models' from this on the data set.\n",
    "7. We don't need the prediction values of these models, but I have predicted on the test data set to check the performance of individual models.\n",
    "8. After training these models, we will have our 7 models, now using these models, we will predict the values from stack data and make a data frame of these predicted values on stack data. So 7 models, hence there will 7 columns where each column having predicted value of stack data.\n",
    "9. This dataframe will now be the features and the dependent variable for this data frame will the output class of stack data.\n",
    "10. From here we will build our final 'model' by stacking the individual models.\n",
    "11. Now we have made the model, we need the predicted values of the test data, which we need in every machine learning algorithm.\n",
    "12. From the test data which i earlier drawn from the data set, we will predict values from each model on the test set\n",
    "and make a dataframe of it and the dependent variable of it would be the output class of test set\n",
    "13. Here we have our final data set and we will predict the values from the final model we made and take the accuracy score\n",
    "14. accuracy score is good enough for this classification as it have only 2 classes."
   ]
  },
  {
   "cell_type": "code",
   "execution_count": 25,
   "metadata": {
    "scrolled": true
   },
   "outputs": [
    {
     "name": "stdout",
     "output_type": "stream",
     "text": [
      "(5289, 17)\n",
      "(39922, 17)\n"
     ]
    }
   ],
   "source": [
    "#used undersampling with Stacking for this data set\n",
    "#as it shows that the data is highly skewed\n",
    "#simply putting algorithms will shows the score around 90% or more but it will be not generalized, because maximum clients said NO\n",
    "#so it will learn the same value.\n",
    "sub = data[data[\"is_success\"]==1]\n",
    "unsub = data[data[\"is_success\"]==0]\n",
    "print sub.shape\n",
    "print unsub.shape"
   ]
  },
  {
   "cell_type": "code",
   "execution_count": 26,
   "metadata": {},
   "outputs": [],
   "source": [
    "#picking out the stack data and test data\n",
    "yesstack = sub.iloc[4289:5289]\n",
    "nostack = unsub.iloc[38922:39922]\n",
    "yestest = sub.iloc[3289:4289]\n",
    "notest = unsub.iloc[37922:38922]"
   ]
  },
  {
   "cell_type": "code",
   "execution_count": 27,
   "metadata": {},
   "outputs": [
    {
     "name": "stdout",
     "output_type": "stream",
     "text": [
      "(2000, 17)\n"
     ]
    }
   ],
   "source": [
    "testdata= pd.concat([yestest,notest])\n",
    "Xtest = testdata.drop(\"is_success\",axis=1)\n",
    "Ytest = testdata[\"is_success\"]\n",
    "print testdata.shape"
   ]
  },
  {
   "cell_type": "code",
   "execution_count": 28,
   "metadata": {},
   "outputs": [
    {
     "name": "stdout",
     "output_type": "stream",
     "text": [
      "(3200, 17)\n",
      "(3000, 17)\n"
     ]
    },
    {
     "data": {
      "text/plain": [
       "0.499"
      ]
     },
     "execution_count": 28,
     "metadata": {},
     "output_type": "execute_result"
    }
   ],
   "source": [
    "#Model 1\n",
    "#we dont use train_test_split function because it will split the concatenated dataset and test it on same.\n",
    "unsub1 = unsub.iloc[:5000]\n",
    "unsub1 = unsub1.sample(frac=0.6)\n",
    "sub1 = sub.iloc[:3200]\n",
    "print sub1.shape\n",
    "print unsub1.shape\n",
    "data1 = pd.concat([sub1,unsub1])\n",
    "data1.shape\n",
    "x1 = data1.drop(\"is_success\",axis=1)\n",
    "y1 = data1[\"is_success\"]\n",
    "#xtrain,xtest,ytrain,ytest = train_test_split(x1,y1,test_size = 0.3,random_state = 42)\n",
    "parameters = {'n_estimators':[3,4,5,6,7,8,9,10,100,150,500,1000], 'criterion':['gini','entropy'], 'max_depth':[1,2,3,4,5]} #parameters always are given in dictionary, if not then the model will be unable to understand that to which class it belongs ie. (n_estimators, criterion, max_depth)\n",
    "clf1 = RandomForestClassifier()\n",
    "kfold = 10\n",
    "iters = 10\n",
    "grid1 = RandomizedSearchCV(clf1,parameters,cv=kfold,n_iter=iters)#used randomized search cross validation which gives the best model, we can use grid search but using it, it will consume more time, as it will check all the parameters, randomized search will randomly choose parameters by giving value n_iters \n",
    "grid1.fit(x1,y1)\n",
    "clf1 = grid1.best_estimator_\n",
    "clf1.fit(x1,y1)\n",
    "ypredict= clf1.predict(Xtest) #it is not necessary to predict, we just want the models from these sampled dataset\n",
    "accuracy_score(Ytest,ypredict)#we are predicting just to check if model is working  properly"
   ]
  },
  {
   "cell_type": "code",
   "execution_count": 29,
   "metadata": {},
   "outputs": [
    {
     "name": "stdout",
     "output_type": "stream",
     "text": [
      "(3200, 17)\n",
      "(3000, 17)\n",
      "Fitting 10 folds for each of 10 candidates, totalling 100 fits\n"
     ]
    },
    {
     "name": "stderr",
     "output_type": "stream",
     "text": [
      "[Parallel(n_jobs=1)]: Done 100 out of 100 | elapsed:  3.1min finished\n"
     ]
    },
    {
     "data": {
      "text/plain": [
       "0.4995"
      ]
     },
     "execution_count": 29,
     "metadata": {},
     "output_type": "execute_result"
    }
   ],
   "source": [
    "#Model 2\n",
    "unsub2 = unsub.iloc[5000:10000]\n",
    "unsub2 = unsub2.sample(frac=0.6)\n",
    "sub2 = sub.iloc[:3200]\n",
    "print sub2.shape\n",
    "print unsub2.shape\n",
    "data2 = pd.concat([sub2,unsub2])\n",
    "data2.shape\n",
    "x2 = data2.drop(\"is_success\",axis=1)\n",
    "y2 = data2[\"is_success\"]\n",
    "#xtrain,xtest,ytrain,ytest = train_test_split(x2,y2,test_size = 0.3,random_state = 42)\n",
    "parameters = {'n_estimators':[3,4,5,6,7,8,9,10,100,150,500,1000], 'criterion':['gini','entropy'], 'max_depth':[1,2,3,4,5]}\n",
    "clf2 = RandomForestClassifier()\n",
    "iters = 10\n",
    "grid2 = RandomizedSearchCV(clf2,parameters,cv=10,verbose=1,n_iter=iters)\n",
    "grid2.fit(x2,y2)\n",
    "clf2 = grid2.best_estimator_\n",
    "clf2.fit(x2,y2)\n",
    "ypredict2 = clf2.predict(Xtest)\n",
    "accuracy_score(Ytest,ypredict2)"
   ]
  },
  {
   "cell_type": "code",
   "execution_count": 30,
   "metadata": {},
   "outputs": [
    {
     "data": {
      "text/plain": [
       "(6200, 17)"
      ]
     },
     "execution_count": 30,
     "metadata": {},
     "output_type": "execute_result"
    }
   ],
   "source": [
    "data2.shape"
   ]
  },
  {
   "cell_type": "code",
   "execution_count": 31,
   "metadata": {},
   "outputs": [
    {
     "name": "stdout",
     "output_type": "stream",
     "text": [
      "(3200, 17)\n",
      "(3000, 17)\n",
      "Fitting 10 folds for each of 10 candidates, totalling 100 fits\n"
     ]
    },
    {
     "name": "stderr",
     "output_type": "stream",
     "text": [
      "[Parallel(n_jobs=1)]: Done 100 out of 100 | elapsed:  1.7min finished\n"
     ]
    },
    {
     "data": {
      "text/plain": [
       "0.502"
      ]
     },
     "execution_count": 31,
     "metadata": {},
     "output_type": "execute_result"
    }
   ],
   "source": [
    "#Model 3\n",
    "unsub3 = unsub.iloc[10000:15000]\n",
    "unsub3 = unsub3.sample(frac=0.6)\n",
    "sub3 = sub.iloc[:3200]\n",
    "print sub3.shape\n",
    "print unsub3.shape\n",
    "data3 = pd.concat([sub3,unsub3])\n",
    "data3.shape\n",
    "x3 = data3.drop(\"is_success\",axis=1)\n",
    "y3 = data3[\"is_success\"]\n",
    "#xtrain,xtest,ytrain,ytest = train_test_split(x3,y3,test_size = 0.3,random_state = 42)\n",
    "parameters = {'n_estimators':[3,4,5,6,7,8,9,10,100,150,500,1000], 'criterion':['gini','entropy'], 'max_depth':[1,2,3,4,5]}\n",
    "clf3 = RandomForestClassifier()\n",
    "iters = 10\n",
    "grid3 = RandomizedSearchCV(clf3,parameters,cv=10,verbose=1,n_iter=iters)\n",
    "grid3.fit(x3,y3)\n",
    "clf3 = grid3.best_estimator_\n",
    "clf3.fit(x3,y3)\n",
    "ypredict3 = clf3.predict(Xtest)\n",
    "accuracy_score(Ytest,ypredict3)"
   ]
  },
  {
   "cell_type": "code",
   "execution_count": 32,
   "metadata": {},
   "outputs": [
    {
     "name": "stdout",
     "output_type": "stream",
     "text": [
      "(3200, 17)\n",
      "(3000, 17)\n",
      "Fitting 10 folds for each of 10 candidates, totalling 100 fits\n"
     ]
    },
    {
     "name": "stderr",
     "output_type": "stream",
     "text": [
      "[Parallel(n_jobs=1)]: Done 100 out of 100 | elapsed:   50.2s finished\n"
     ]
    },
    {
     "data": {
      "text/plain": [
       "0.52149999999999996"
      ]
     },
     "execution_count": 32,
     "metadata": {},
     "output_type": "execute_result"
    }
   ],
   "source": [
    "#Model 4\n",
    "unsub4 = unsub.iloc[15000:20000]\n",
    "unsub4 = unsub4.sample(frac=0.6)\n",
    "sub4 = sub.iloc[:3200]\n",
    "print sub4.shape\n",
    "print unsub4.shape\n",
    "data4 = pd.concat([sub4,unsub4])\n",
    "data4.shape\n",
    "x4 = data4.drop(\"is_success\",axis=1)\n",
    "y4 = data4[\"is_success\"]\n",
    "#xtrain,xtest,ytrain,ytest = train_test_split(x4,y4,test_size = 0.3,random_state = 42)\n",
    "parameters = {'n_estimators':[3,4,5,6,7,8,9,10,100,150,500,1000], 'criterion':['gini','entropy'], 'max_depth':[1,2,3,4,5]}\n",
    "clf4 = RandomForestClassifier()\n",
    "iters = 10\n",
    "grid4 = RandomizedSearchCV(clf4,parameters,cv=10,verbose=1,n_iter=iters)\n",
    "grid4.fit(x4,y4)\n",
    "clf4 = grid4.best_estimator_\n",
    "clf4.fit(x4,y4)\n",
    "ypredict4 = clf4.predict(Xtest)\n",
    "accuracy_score(Ytest,ypredict4)"
   ]
  },
  {
   "cell_type": "code",
   "execution_count": 33,
   "metadata": {},
   "outputs": [
    {
     "name": "stdout",
     "output_type": "stream",
     "text": [
      "(3000, 17)\n",
      "(3000, 17)\n",
      "Fitting 10 folds for each of 10 candidates, totalling 100 fits\n"
     ]
    },
    {
     "name": "stderr",
     "output_type": "stream",
     "text": [
      "[Parallel(n_jobs=1)]: Done 100 out of 100 | elapsed:  3.4min finished\n"
     ]
    },
    {
     "data": {
      "text/plain": [
       "0.53549999999999998"
      ]
     },
     "execution_count": 33,
     "metadata": {},
     "output_type": "execute_result"
    }
   ],
   "source": [
    "#Model 5\n",
    "unsub5 = unsub.iloc[20000:25000]\n",
    "unsub5 = unsub5.sample(frac=0.6)\n",
    "sub5 = sub.iloc[2289:5289]\n",
    "print sub5.shape\n",
    "print unsub5.shape\n",
    "data5 = pd.concat([sub5,unsub5])\n",
    "data5.shape\n",
    "x5 = data5.drop(\"is_success\",axis=1)\n",
    "y5 = data5[\"is_success\"]\n",
    "#xtrain,xtest,ytrain,ytest = train_test_split(x5,y5,test_size = 0.3,random_state = 42)\n",
    "parameters = {'n_estimators':[3,4,5,6,7,8,9,10,100,150,500,1000], 'criterion':['gini','entropy'], 'max_depth':[1,2,3,4,5]}\n",
    "clf5 = RandomForestClassifier()\n",
    "iters = 10\n",
    "grid5 = RandomizedSearchCV(clf5,parameters,cv=10,verbose=1,n_iter=iters)\n",
    "grid5.fit(x5,y5)\n",
    "clf5 = grid5.best_estimator_\n",
    "clf5.fit(x5,y5)\n",
    "ypredict5 = clf5.predict(Xtest)\n",
    "accuracy_score(Ytest,ypredict5)"
   ]
  },
  {
   "cell_type": "code",
   "execution_count": 34,
   "metadata": {},
   "outputs": [
    {
     "name": "stdout",
     "output_type": "stream",
     "text": [
      "(3000, 17)\n",
      "(3000, 17)\n",
      "Fitting 10 folds for each of 10 candidates, totalling 100 fits\n"
     ]
    },
    {
     "name": "stderr",
     "output_type": "stream",
     "text": [
      "[Parallel(n_jobs=1)]: Done 100 out of 100 | elapsed:  2.0min finished\n"
     ]
    },
    {
     "data": {
      "text/plain": [
       "0.60550000000000004"
      ]
     },
     "execution_count": 34,
     "metadata": {},
     "output_type": "execute_result"
    }
   ],
   "source": [
    "#Model 6\n",
    "unsub6 = unsub.iloc[25000:30000]\n",
    "unsub6 = unsub6.sample(frac=0.6)\n",
    "sub6 = sub.iloc[2289:5289]\n",
    "print sub6.shape\n",
    "print unsub6.shape\n",
    "data6 = pd.concat([sub6,unsub6])\n",
    "data6.shape\n",
    "x6 = data6.drop(\"is_success\",axis=1)\n",
    "y6 = data6[\"is_success\"]\n",
    "#xtrain,xtest,ytrain,ytest = train_test_split(x6,y6,test_size = 0.3,random_state = 42)\n",
    "parameters = {'n_estimators':[3,4,5,6,7,8,9,10,100,150,500,1000], 'criterion':['gini','entropy'], 'max_depth':[1,2,3,4,5]}\n",
    "clf6 = RandomForestClassifier()\n",
    "iters = 10\n",
    "grid6 = RandomizedSearchCV(clf6,parameters,cv=10,verbose=1,n_iter=iters)\n",
    "grid6.fit(x6,y6)\n",
    "clf6 = grid6.best_estimator_\n",
    "clf6.fit(x6,y6)\n",
    "ypredict6 = clf6.predict(Xtest)\n",
    "accuracy_score(Ytest,ypredict6)"
   ]
  },
  {
   "cell_type": "code",
   "execution_count": 35,
   "metadata": {},
   "outputs": [
    {
     "name": "stdout",
     "output_type": "stream",
     "text": [
      "(3000, 17)\n",
      "(4740, 17)\n",
      "Fitting 10 folds for each of 10 candidates, totalling 100 fits\n"
     ]
    },
    {
     "name": "stderr",
     "output_type": "stream",
     "text": [
      "[Parallel(n_jobs=1)]: Done 100 out of 100 | elapsed:   44.6s finished\n"
     ]
    },
    {
     "data": {
      "text/plain": [
       "0.54500000000000004"
      ]
     },
     "execution_count": 35,
     "metadata": {},
     "output_type": "execute_result"
    }
   ],
   "source": [
    "#Model 7\n",
    "unsub7 = unsub.iloc[30000:37900]\n",
    "unsub7 = unsub7.sample(frac=0.6)\n",
    "sub7 = sub.iloc[2289:5289]\n",
    "print sub7.shape\n",
    "print unsub7.shape\n",
    "data7 = pd.concat([sub7,unsub7])\n",
    "data7.shape\n",
    "x7 = data7.drop(\"is_success\",axis=1)\n",
    "y7 = data7[\"is_success\"]\n",
    "#xtrain,xtest,ytrain,ytest = train_test_split(x7,y7,test_size = 0.3,random_state = 42)\n",
    "parameters = {'n_estimators':[3,4,5,6,7,8,9,10,100,150,500,1000], 'criterion':['gini','entropy'], 'max_depth':[1,2,3,4,5]}\n",
    "clf7 = RandomForestClassifier()\n",
    "iters = 10\n",
    "grid7 = RandomizedSearchCV(clf7,parameters,cv=10,verbose=1,n_iter=iters)\n",
    "grid7.fit(x7,y7)\n",
    "clf7 = grid7.best_estimator_\n",
    "clf7.fit(x7,y7)\n",
    "abc = clf7.predict(Xtest)\n",
    "accuracy_score(abc,Ytest)"
   ]
  },
  {
   "cell_type": "code",
   "execution_count": 36,
   "metadata": {},
   "outputs": [
    {
     "data": {
      "text/plain": [
       "(2000, 17)"
      ]
     },
     "execution_count": 36,
     "metadata": {},
     "output_type": "execute_result"
    }
   ],
   "source": [
    "#making stack data\n",
    "stackdata = pd.concat([yesstack,nostack])\n",
    "stackdata.shape"
   ]
  },
  {
   "cell_type": "code",
   "execution_count": 37,
   "metadata": {
    "scrolled": true
   },
   "outputs": [
    {
     "name": "stdout",
     "output_type": "stream",
     "text": [
      "(2000, 7)\n",
      "(2000,)\n",
      "Fitting 3 folds for each of 10 candidates, totalling 30 fits\n"
     ]
    },
    {
     "name": "stderr",
     "output_type": "stream",
     "text": [
      "[Parallel(n_jobs=1)]: Done  30 out of  30 | elapsed:   28.8s finished\n"
     ]
    },
    {
     "data": {
      "text/plain": [
       "RandomForestClassifier(bootstrap=True, class_weight=None, criterion='gini',\n",
       "            max_depth=4, max_features='auto', max_leaf_nodes=None,\n",
       "            min_impurity_split=1e-07, min_samples_leaf=1,\n",
       "            min_samples_split=2, min_weight_fraction_leaf=0.0,\n",
       "            n_estimators=5, n_jobs=1, oob_score=False, random_state=None,\n",
       "            verbose=0, warm_start=False)"
      ]
     },
     "execution_count": 37,
     "metadata": {},
     "output_type": "execute_result"
    }
   ],
   "source": [
    "#used every model and predict values on stack data\n",
    "# now the predicted values are the features and output of Ystack is the output\n",
    "# we will make a final model on this data set\n",
    "# 7 models thus 7 features and 1 output value\n",
    "Xstack = stackdata.drop(\"is_success\",axis=1)\n",
    "Ystack = stackdata[\"is_success\"]\n",
    "Xstack.shape\n",
    "f1 = clf1.predict(Xstack)\n",
    "f1 = pd.DataFrame(f1)\n",
    "f2 = clf2.predict(Xstack)\n",
    "f2 = pd.DataFrame(f2)\n",
    "f3 = clf3.predict(Xstack)\n",
    "f3 = pd.DataFrame(f3)\n",
    "f4 = clf4.predict(Xstack)\n",
    "f4 = pd.DataFrame(f4)\n",
    "f5 = clf5.predict(Xstack)\n",
    "f5 = pd.DataFrame(f5)\n",
    "f6 = clf6.predict(Xstack)\n",
    "f6 = pd.DataFrame(f6)\n",
    "f7 = clf7.predict(Xstack)\n",
    "f7 = pd.DataFrame(f7)\n",
    "\n",
    "Xtrain = pd.concat([f1,f2,f3,f4,f5,f6,f7],axis=1)\n",
    "print Xtrain.shape\n",
    "print Ystack.shape\n",
    "clffinal = RandomForestClassifier()\n",
    "iters = 10\n",
    "parameters = {'n_estimators':[3,4,5,6,7,8,9,10,100,150,500,1000], 'criterion':['gini','entropy'], 'max_depth':[1,2,3,4,5]}\n",
    "gridfinal = RandomizedSearchCV(clffinal,parameters,verbose=1,n_iter=iters)\n",
    "gridfinal.fit(Xtrain,Ystack)\n",
    "clffinal = gridfinal.best_estimator_\n",
    "clffinal.fit(Xtrain,Ystack)"
   ]
  },
  {
   "cell_type": "code",
   "execution_count": 38,
   "metadata": {},
   "outputs": [
    {
     "name": "stdout",
     "output_type": "stream",
     "text": [
      "             precision    recall  f1-score   support\n",
      "\n",
      "          0       0.67      0.39      0.49      1000\n",
      "          1       0.57      0.81      0.67      1000\n",
      "\n",
      "avg / total       0.62      0.60      0.58      2000\n",
      "\n",
      "0.666942833471 F1 score\n",
      "0.598 Accuracy score\n"
     ]
    }
   ],
   "source": [
    "#here we will use the predcited values of Xtest from our previous models\n",
    "\n",
    "f11 = clf1.predict(Xtest)\n",
    "f11 = pd.DataFrame(f11)\n",
    "\n",
    "f22 = clf2.predict(Xtest)\n",
    "f22 = pd.DataFrame(f22)\n",
    "\n",
    "f33 = clf3.predict(Xtest)\n",
    "f33 = pd.DataFrame(f33)\n",
    "\n",
    "f44 = clf4.predict(Xtest)\n",
    "f44 = pd.DataFrame(f44)\n",
    "\n",
    "f55 = clf5.predict(Xtest)\n",
    "f55 = pd.DataFrame(f55)\n",
    "\n",
    "f66 = clf6.predict(Xtest)\n",
    "f66 = pd.DataFrame(f66)\n",
    "\n",
    "f77 = clf7.predict(Xtest)\n",
    "f77 = pd.DataFrame(f77)\n",
    "#making a dataframe and these are the features\n",
    "xf = [f11,f22,f33,f44,f55,f66,f77]\n",
    "xfeatures = pd.concat(xf,axis=1)\n",
    "predicty = clffinal.predict(xfeatures)\n",
    "print classification_report(Ytest,predicty)\n",
    "print f1_score(Ytest,predicty), 'F1 score'\n",
    "print accuracy_score(Ytest,predicty) ,'Accuracy score'"
   ]
  },
  {
   "cell_type": "markdown",
   "metadata": {},
   "source": []
  },
  {
   "cell_type": "markdown",
   "metadata": {
    "collapsed": true
   },
   "source": [
    "## Conclusion : \n",
    "1. The accuracy of final model is around 59.8% which is better than accuracy of individual models. Similarly, F1 score of 65.4% is better than those of individual models.\n",
    "2. accuracy achieved without changing 'age' feature is 62%\n",
    "2. Further work can be done on the problem by engineering new features.\n",
    "3. Different types of classifiers can be tried in addition to random forest.\n",
    "    "
   ]
  },
  {
   "cell_type": "code",
   "execution_count": null,
   "metadata": {
    "collapsed": true
   },
   "outputs": [],
   "source": []
  }
 ],
 "metadata": {
  "anaconda-cloud": {},
  "kernelspec": {
   "display_name": "Python 3",
   "language": "python",
   "name": "python3"
  },
  "language_info": {
   "codemirror_mode": {
    "name": "ipython",
    "version": 3
   },
   "file_extension": ".py",
   "mimetype": "text/x-python",
   "name": "python",
   "nbconvert_exporter": "python",
   "pygments_lexer": "ipython3",
   "version": "3.6.6"
  }
 },
 "nbformat": 4,
 "nbformat_minor": 2
}
